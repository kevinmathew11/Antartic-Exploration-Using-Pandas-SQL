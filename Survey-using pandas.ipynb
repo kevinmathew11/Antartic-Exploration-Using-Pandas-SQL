{
 "cells": [
  {
   "cell_type": "markdown",
   "metadata": {},
   "source": [
    "This notebook was preparing by Kevin Mathew <br>Objective :To compare queries using sql and python.\n",
    "<br>Different methods avaiable in either languages will be used and their performance will be compared whereever possible.<br>\n",
    "Support for other programming langugaages will be added later<br>\n",
    "\n",
    "Credit: <br>\n",
    "Following are the notes prepared while working on Databases and SQL by the [The Carpentries](https://swcarpentry.github.io/sql-novice-survey/about/index.html)\n",
    "\n",
    "### [Survey DB](https://swcarpentry.github.io/sql-novice-survey/)\n",
    "\n",
    "In the late 1920s and early 1930s, William Dyer, Frank Pabodie, and Valentina Roerich led expeditions to the Pole of Inaccessibility in the South Pacific, and then onward to Antarctica. Two years ago, their expeditions were found in a storage locker at Miskatonic University. We have scanned and OCR the data they contain, and we now want to store that information in a way that will make search and analysis easy.\n",
    "\n",
    "### Connecting to the database with JupyterLab\n",
    "\n",
    "[ip-python-sql](https://pypi.org/project/ipython-sql/)\n",
    "\n",
    "Credits: Parul Pandey<br>[Click here for the complete tutorial](https://www.datacamp.com/community/tutorials/sql-interface-within-jupyterlab)\n",
    "\n"
   ]
  },
  {
   "cell_type": "code",
   "execution_count": 181,
   "metadata": {},
   "outputs": [],
   "source": [
    "import pandas as pd\n",
    "import numpy as np\n",
    "from IPython.display import Image\n",
    "from IPython.core.display import display, HTML"
   ]
  },
  {
   "cell_type": "code",
   "execution_count": 141,
   "metadata": {},
   "outputs": [
    {
     "name": "stdout",
     "output_type": "stream",
     "text": [
      "The sql extension is already loaded. To reload it, use:\n",
      "  %reload_ext sql\n"
     ]
    }
   ],
   "source": [
    "#Lets connect to the database using sql magic\n",
    "%load_ext sql\n",
    "%sql sqlite:////Users/kevinmathew/sql/survey.db"
   ]
  },
  {
   "cell_type": "code",
   "execution_count": 142,
   "metadata": {},
   "outputs": [
    {
     "name": "stdout",
     "output_type": "stream",
     "text": [
      " * sqlite:////Users/kevinmathew/sql/survey.db\n",
      "Done.\n",
      " * sqlite:////Users/kevinmathew/sql/survey.db\n",
      "Done.\n",
      " * sqlite:////Users/kevinmathew/sql/survey.db\n",
      "Done.\n",
      " * sqlite:////Users/kevinmathew/sql/survey.db\n",
      "Done.\n"
     ]
    }
   ],
   "source": [
    "# Now,lets excecute queries on our database and create the respective dataframes for operations using pandas.\n",
    "\n",
    "person=%sql select * from person,site,survey,visited\n",
    "site=%sql select * from site\n",
    "survey=%sql select * from survey\n",
    "visited=%sql select * from visited\n",
    "\n",
    "\n",
    "person=person.DataFrame()\n",
    "site=site.DataFrame()\n",
    "survey=survey.DataFrame()\n",
    "visited=visited.DataFrame()"
   ]
  },
  {
   "cell_type": "markdown",
   "metadata": {},
   "source": [
    "#### 1.Filtering \n",
    "One of the most powerful features of a database is the ability to filter data, i.e., to select only those records that match certain criteria. For example, suppose we want to see when a particular site was visited. We can select these records from the Visited table by using a WHERE clause in our query:"
   ]
  },
  {
   "cell_type": "code",
   "execution_count": 143,
   "metadata": {},
   "outputs": [
    {
     "name": "stdout",
     "output_type": "stream",
     "text": [
      " * sqlite:////Users/kevinmathew/sql/survey.db\n",
      "Done.\n",
      "CPU times: user 2.56 ms, sys: 1.17 ms, total: 3.73 ms\n",
      "Wall time: 3.21 ms\n"
     ]
    },
    {
     "data": {
      "text/html": [
       "<table>\n",
       "    <tr>\n",
       "        <th>id</th>\n",
       "        <th>site</th>\n",
       "        <th>dated</th>\n",
       "    </tr>\n",
       "    <tr>\n",
       "        <td>619</td>\n",
       "        <td>DR-1</td>\n",
       "        <td>1927-02-08</td>\n",
       "    </tr>\n",
       "    <tr>\n",
       "        <td>622</td>\n",
       "        <td>DR-1</td>\n",
       "        <td>1927-02-10</td>\n",
       "    </tr>\n",
       "</table>"
      ],
      "text/plain": [
       "[(619, 'DR-1', '1927-02-08'), (622, 'DR-1', '1927-02-10')]"
      ]
     },
     "execution_count": 143,
     "metadata": {},
     "output_type": "execute_result"
    }
   ],
   "source": [
    "%%time \n",
    "%sql SELECT * FROM Visited WHERE site = 'DR-1' AND dated < '1930-01-01';"
   ]
  },
  {
   "cell_type": "code",
   "execution_count": 144,
   "metadata": {},
   "outputs": [
    {
     "name": "stdout",
     "output_type": "stream",
     "text": [
      "CPU times: user 1.85 ms, sys: 661 µs, total: 2.52 ms\n",
      "Wall time: 2.47 ms\n"
     ]
    },
    {
     "data": {
      "text/html": [
       "<div>\n",
       "<style scoped>\n",
       "    .dataframe tbody tr th:only-of-type {\n",
       "        vertical-align: middle;\n",
       "    }\n",
       "\n",
       "    .dataframe tbody tr th {\n",
       "        vertical-align: top;\n",
       "    }\n",
       "\n",
       "    .dataframe thead th {\n",
       "        text-align: right;\n",
       "    }\n",
       "</style>\n",
       "<table border=\"1\" class=\"dataframe\">\n",
       "  <thead>\n",
       "    <tr style=\"text-align: right;\">\n",
       "      <th></th>\n",
       "      <th>id</th>\n",
       "      <th>site</th>\n",
       "      <th>dated</th>\n",
       "    </tr>\n",
       "  </thead>\n",
       "  <tbody>\n",
       "    <tr>\n",
       "      <th>0</th>\n",
       "      <td>619</td>\n",
       "      <td>DR-1</td>\n",
       "      <td>1927-02-08</td>\n",
       "    </tr>\n",
       "    <tr>\n",
       "      <th>1</th>\n",
       "      <td>622</td>\n",
       "      <td>DR-1</td>\n",
       "      <td>1927-02-10</td>\n",
       "    </tr>\n",
       "  </tbody>\n",
       "</table>\n",
       "</div>"
      ],
      "text/plain": [
       "    id  site       dated\n",
       "0  619  DR-1  1927-02-08\n",
       "1  622  DR-1  1927-02-10"
      ]
     },
     "execution_count": 144,
     "metadata": {},
     "output_type": "execute_result"
    }
   ],
   "source": [
    "%%time\n",
    "visited[(visited.site=='DR-1') & (visited.dated<='1930-01-01')]"
   ]
  },
  {
   "cell_type": "markdown",
   "metadata": {},
   "source": [
    "#### 1.1 Partial Matching : LIKE OPERATOR"
   ]
  },
  {
   "cell_type": "code",
   "execution_count": 145,
   "metadata": {},
   "outputs": [
    {
     "name": "stdout",
     "output_type": "stream",
     "text": [
      " * sqlite:////Users/kevinmathew/sql/survey.db\n",
      "Done.\n",
      "CPU times: user 2.31 ms, sys: 1.06 ms, total: 3.37 ms\n",
      "Wall time: 2.42 ms\n"
     ]
    },
    {
     "data": {
      "text/html": [
       "<table>\n",
       "    <tr>\n",
       "        <th>id</th>\n",
       "        <th>site</th>\n",
       "        <th>dated</th>\n",
       "    </tr>\n",
       "    <tr>\n",
       "        <td>837</td>\n",
       "        <td>MSK-4</td>\n",
       "        <td>1932-01-14</td>\n",
       "    </tr>\n",
       "</table>"
      ],
      "text/plain": [
       "[(837, 'MSK-4', '1932-01-14')]"
      ]
     },
     "execution_count": 145,
     "metadata": {},
     "output_type": "execute_result"
    }
   ],
   "source": [
    "%%time \n",
    "# the site names beginning with “DR\n",
    "%sql select * from visited where site LIKE 'ms%';"
   ]
  },
  {
   "cell_type": "code",
   "execution_count": 146,
   "metadata": {},
   "outputs": [
    {
     "name": "stdout",
     "output_type": "stream",
     "text": [
      "58.8 ms ± 6.49 ms per loop (mean ± std. dev. of 7 runs, 10 loops each)\n",
      "4.47 ms ± 433 µs per loop (mean ± std. dev. of 7 runs, 100 loops each)\n",
      "2.28 ms ± 269 µs per loop (mean ± std. dev. of 7 runs, 100 loops each)\n"
     ]
    }
   ],
   "source": [
    "### There are two methods to perform this using pandas,\n",
    "\n",
    "## Lets compare the time taken for both- these approaches, \n",
    "\n",
    "\n",
    "%timeit visited2=pd.concat([visited]*1000,ignore_index=True)\n",
    "%timeit visited2[visited2['site'].str.contains(r'MS(?!$)')]\n",
    "%timeit visited2[visited2['site'].str.contains('MS',regex=False)]"
   ]
  },
  {
   "cell_type": "markdown",
   "metadata": {},
   "source": [
    "Performance wise, regex search is slower than substring search.<br>\n",
    "Anything that is not a string cannot have string methods applied on it, so we can specify 'na=False' here.<br>\n",
    "[source](https://stackoverflow.com/questions/11350770/select-by-partial-string-from-a-pandas-dataframe)"
   ]
  },
  {
   "cell_type": "code",
   "execution_count": 147,
   "metadata": {},
   "outputs": [
    {
     "data": {
      "text/html": [
       "<div>\n",
       "<style scoped>\n",
       "    .dataframe tbody tr th:only-of-type {\n",
       "        vertical-align: middle;\n",
       "    }\n",
       "\n",
       "    .dataframe tbody tr th {\n",
       "        vertical-align: top;\n",
       "    }\n",
       "\n",
       "    .dataframe thead th {\n",
       "        text-align: right;\n",
       "    }\n",
       "</style>\n",
       "<table border=\"1\" class=\"dataframe\">\n",
       "  <thead>\n",
       "    <tr style=\"text-align: right;\">\n",
       "      <th></th>\n",
       "      <th>id</th>\n",
       "      <th>site</th>\n",
       "      <th>dated</th>\n",
       "    </tr>\n",
       "  </thead>\n",
       "  <tbody>\n",
       "    <tr>\n",
       "      <th>0</th>\n",
       "      <td>619</td>\n",
       "      <td>DR-1</td>\n",
       "      <td>1927-02-08</td>\n",
       "    </tr>\n",
       "    <tr>\n",
       "      <th>1</th>\n",
       "      <td>622</td>\n",
       "      <td>DR-1</td>\n",
       "      <td>1927-02-10</td>\n",
       "    </tr>\n",
       "    <tr>\n",
       "      <th>2</th>\n",
       "      <td>734</td>\n",
       "      <td>DR-3</td>\n",
       "      <td>1930-01-07</td>\n",
       "    </tr>\n",
       "    <tr>\n",
       "      <th>3</th>\n",
       "      <td>735</td>\n",
       "      <td>DR-3</td>\n",
       "      <td>1930-01-12</td>\n",
       "    </tr>\n",
       "    <tr>\n",
       "      <th>4</th>\n",
       "      <td>751</td>\n",
       "      <td>DR-3</td>\n",
       "      <td>1930-02-26</td>\n",
       "    </tr>\n",
       "    <tr>\n",
       "      <th>5</th>\n",
       "      <td>752</td>\n",
       "      <td>DR-3</td>\n",
       "      <td>None</td>\n",
       "    </tr>\n",
       "    <tr>\n",
       "      <th>6</th>\n",
       "      <td>837</td>\n",
       "      <td>MSK-4</td>\n",
       "      <td>1932-01-14</td>\n",
       "    </tr>\n",
       "    <tr>\n",
       "      <th>7</th>\n",
       "      <td>844</td>\n",
       "      <td>DR-1</td>\n",
       "      <td>1932-03-22</td>\n",
       "    </tr>\n",
       "  </tbody>\n",
       "</table>\n",
       "</div>"
      ],
      "text/plain": [
       "    id   site       dated\n",
       "0  619   DR-1  1927-02-08\n",
       "1  622   DR-1  1927-02-10\n",
       "2  734   DR-3  1930-01-07\n",
       "3  735   DR-3  1930-01-12\n",
       "4  751   DR-3  1930-02-26\n",
       "5  752   DR-3        None\n",
       "6  837  MSK-4  1932-01-14\n",
       "7  844   DR-1  1932-03-22"
      ]
     },
     "execution_count": 147,
     "metadata": {},
     "output_type": "execute_result"
    }
   ],
   "source": [
    "## Multiple Substring search using list and join\n",
    "terms=['MS','DR']\n",
    "visited[visited['site'].str.contains('|'.join(terms))]"
   ]
  },
  {
   "cell_type": "markdown",
   "metadata": {},
   "source": [
    "#### 2.Calculating New Values on the fly"
   ]
  },
  {
   "cell_type": "code",
   "execution_count": 148,
   "metadata": {},
   "outputs": [
    {
     "name": "stdout",
     "output_type": "stream",
     "text": [
      " * sqlite:////Users/kevinmathew/sql/survey.db\n",
      "Done.\n",
      "CPU times: user 2.68 ms, sys: 1.35 ms, total: 4.03 ms\n",
      "Wall time: 5.36 ms\n"
     ]
    },
    {
     "data": {
      "text/html": [
       "<table>\n",
       "    <tr>\n",
       "        <th>1.05 * reading</th>\n",
       "    </tr>\n",
       "    <tr>\n",
       "        <td>10.311</td>\n",
       "    </tr>\n",
       "    <tr>\n",
       "        <td>8.19</td>\n",
       "    </tr>\n",
       "    <tr>\n",
       "        <td>8.8305</td>\n",
       "    </tr>\n",
       "    <tr>\n",
       "        <td>7.581</td>\n",
       "    </tr>\n",
       "    <tr>\n",
       "        <td>4.5675</td>\n",
       "    </tr>\n",
       "    <tr>\n",
       "        <td>2.2995</td>\n",
       "    </tr>\n",
       "    <tr>\n",
       "        <td>1.533</td>\n",
       "    </tr>\n",
       "    <tr>\n",
       "        <td>11.8125</td>\n",
       "    </tr>\n",
       "</table>"
      ],
      "text/plain": [
       "[(10.311,),\n",
       " (8.19,),\n",
       " (8.8305,),\n",
       " (7.581,),\n",
       " (4.5675,),\n",
       " (2.2995,),\n",
       " (1.533,),\n",
       " (11.8125,)]"
      ]
     },
     "execution_count": 148,
     "metadata": {},
     "output_type": "execute_result"
    }
   ],
   "source": [
    "%%time\n",
    "%sql SELECT 1.05 * reading FROM Survey WHERE quant = 'rad';"
   ]
  },
  {
   "cell_type": "code",
   "execution_count": 159,
   "metadata": {},
   "outputs": [
    {
     "name": "stdout",
     "output_type": "stream",
     "text": [
      " * sqlite:////Users/kevinmathew/sql/survey.db\n",
      "Done.\n"
     ]
    },
    {
     "data": {
      "text/html": [
       "<table>\n",
       "    <tr>\n",
       "        <th>taken</th>\n",
       "        <th>person</th>\n",
       "        <th>quant</th>\n",
       "        <th>reading</th>\n",
       "    </tr>\n",
       "    <tr>\n",
       "        <td>619</td>\n",
       "        <td>dyer</td>\n",
       "        <td>rad</td>\n",
       "        <td>9.82</td>\n",
       "    </tr>\n",
       "    <tr>\n",
       "        <td>619</td>\n",
       "        <td>dyer</td>\n",
       "        <td>sal</td>\n",
       "        <td>0.13</td>\n",
       "    </tr>\n",
       "    <tr>\n",
       "        <td>622</td>\n",
       "        <td>dyer</td>\n",
       "        <td>rad</td>\n",
       "        <td>7.8</td>\n",
       "    </tr>\n",
       "    <tr>\n",
       "        <td>622</td>\n",
       "        <td>dyer</td>\n",
       "        <td>sal</td>\n",
       "        <td>0.09</td>\n",
       "    </tr>\n",
       "    <tr>\n",
       "        <td>734</td>\n",
       "        <td>pb</td>\n",
       "        <td>rad</td>\n",
       "        <td>8.41</td>\n",
       "    </tr>\n",
       "</table>"
      ],
      "text/plain": [
       "[(619, 'dyer', 'rad', 9.82),\n",
       " (619, 'dyer', 'sal', 0.13),\n",
       " (622, 'dyer', 'rad', 7.8),\n",
       " (622, 'dyer', 'sal', 0.09),\n",
       " (734, 'pb', 'rad', 8.41)]"
      ]
     },
     "execution_count": 159,
     "metadata": {},
     "output_type": "execute_result"
    }
   ],
   "source": [
    "%sql SELECT * FROM Survey limit 5"
   ]
  },
  {
   "cell_type": "code",
   "execution_count": 160,
   "metadata": {},
   "outputs": [],
   "source": [
    "#survey['new_reading']=survey[survey['quant']=='rad']['reading']*1.05\n",
    "### There is a problem with this approach,because there will be null values for the boolean false\n",
    "\n",
    "#survey['reading']=(np.where(survey['quant']=='rad',survey['reading']*1.05,np.where(survey['quant']!='rad',survey['reading'])))\n",
    "# Above method is also not working here"
   ]
  },
  {
   "cell_type": "code",
   "execution_count": 176,
   "metadata": {},
   "outputs": [
    {
     "data": {
      "text/html": [
       "<div>\n",
       "<style scoped>\n",
       "    .dataframe tbody tr th:only-of-type {\n",
       "        vertical-align: middle;\n",
       "    }\n",
       "\n",
       "    .dataframe tbody tr th {\n",
       "        vertical-align: top;\n",
       "    }\n",
       "\n",
       "    .dataframe thead th {\n",
       "        text-align: right;\n",
       "    }\n",
       "</style>\n",
       "<table border=\"1\" class=\"dataframe\">\n",
       "  <thead>\n",
       "    <tr style=\"text-align: right;\">\n",
       "      <th></th>\n",
       "      <th>taken</th>\n",
       "      <th>person</th>\n",
       "      <th>quant</th>\n",
       "      <th>reading</th>\n",
       "    </tr>\n",
       "  </thead>\n",
       "  <tbody>\n",
       "    <tr>\n",
       "      <th>0</th>\n",
       "      <td>619</td>\n",
       "      <td>dyer</td>\n",
       "      <td>rad</td>\n",
       "      <td>10.3110</td>\n",
       "    </tr>\n",
       "    <tr>\n",
       "      <th>1</th>\n",
       "      <td>619</td>\n",
       "      <td>dyer</td>\n",
       "      <td>sal</td>\n",
       "      <td>0.1300</td>\n",
       "    </tr>\n",
       "    <tr>\n",
       "      <th>2</th>\n",
       "      <td>622</td>\n",
       "      <td>dyer</td>\n",
       "      <td>rad</td>\n",
       "      <td>8.1900</td>\n",
       "    </tr>\n",
       "    <tr>\n",
       "      <th>3</th>\n",
       "      <td>622</td>\n",
       "      <td>dyer</td>\n",
       "      <td>sal</td>\n",
       "      <td>0.0900</td>\n",
       "    </tr>\n",
       "    <tr>\n",
       "      <th>4</th>\n",
       "      <td>734</td>\n",
       "      <td>pb</td>\n",
       "      <td>rad</td>\n",
       "      <td>8.8305</td>\n",
       "    </tr>\n",
       "  </tbody>\n",
       "</table>\n",
       "</div>"
      ],
      "text/plain": [
       "   taken person quant  reading\n",
       "0    619   dyer   rad  10.3110\n",
       "1    619   dyer   sal   0.1300\n",
       "2    622   dyer   rad   8.1900\n",
       "3    622   dyer   sal   0.0900\n",
       "4    734     pb   rad   8.8305"
      ]
     },
     "execution_count": 176,
     "metadata": {},
     "output_type": "execute_result"
    }
   ],
   "source": [
    "##The solution is to use a transform function inside the apply\n",
    "def transform_row(r):\n",
    "    if r.quant =='rad':\n",
    "        r.reading=r.reading * 1.05\n",
    "    else:\n",
    "        r.reading=r.reading\n",
    "    return r \n",
    "\n",
    "survey.apply(transform_row,axis=1).head(5)"
   ]
  },
  {
   "cell_type": "markdown",
   "metadata": {},
   "source": [
    "#### 2.1 Combining values from two different fields"
   ]
  },
  {
   "cell_type": "code",
   "execution_count": 163,
   "metadata": {},
   "outputs": [
    {
     "name": "stdout",
     "output_type": "stream",
     "text": [
      " * sqlite:////Users/kevinmathew/sql/survey.db\n",
      "Done.\n"
     ]
    },
    {
     "data": {
      "text/html": [
       "<table>\n",
       "    <tr>\n",
       "        <th>fullname</th>\n",
       "    </tr>\n",
       "    <tr>\n",
       "        <td>William Dyer</td>\n",
       "    </tr>\n",
       "    <tr>\n",
       "        <td>Frank Pabodie</td>\n",
       "    </tr>\n",
       "    <tr>\n",
       "        <td>Anderson Lake</td>\n",
       "    </tr>\n",
       "    <tr>\n",
       "        <td>Valentina Roerich</td>\n",
       "    </tr>\n",
       "    <tr>\n",
       "        <td>Frank Danforth</td>\n",
       "    </tr>\n",
       "</table>"
      ],
      "text/plain": [
       "[('William Dyer',),\n",
       " ('Frank Pabodie',),\n",
       " ('Anderson Lake',),\n",
       " ('Valentina Roerich',),\n",
       " ('Frank Danforth',)]"
      ]
     },
     "execution_count": 163,
     "metadata": {},
     "output_type": "execute_result"
    }
   ],
   "source": [
    "%sql SELECT personal || ' ' || family as fullname FROM Person;"
   ]
  },
  {
   "cell_type": "markdown",
   "metadata": {},
   "source": [
    "In Pandas there are [several ways](https://stackoverflow.com/questions/19377969/combine-two-columns-of-text-in-pandas-dataframe) to do this. "
   ]
  },
  {
   "cell_type": "code",
   "execution_count": 177,
   "metadata": {},
   "outputs": [],
   "source": [
    "columns=['personal','family']\n",
    "person['fullname']=person[columns].astype(str).sum(axis=1)"
   ]
  },
  {
   "cell_type": "markdown",
   "metadata": {},
   "source": [
    "A graph comparing performance of these approaches by [Anton](https://stackoverflow.com/users/7386332/anton-vbr)<br>\n",
    "Its always good to subscirbe to the rss feeds of top 1% users in each domain.\n"
   ]
  },
  {
   "cell_type": "code",
   "execution_count": 182,
   "metadata": {},
   "outputs": [
    {
     "data": {
      "image/png": "[encoded data removed]",
      "text/plain": [
       "<IPython.core.display.Image object>"
      ]
     },
     "execution_count": 182,
     "metadata": {},
     "output_type": "execute_result"
    }
   ],
   "source": [
    "Image(\"https://i.stack.imgur.com/QaLDM.png\")"
   ]
  },
  {
   "cell_type": "markdown",
   "metadata": {},
   "source": [
    "#### 3.Missing Data\n",
    "\n",
    "We have to be careful in dealing with null values"
   ]
  },
  {
   "cell_type": "code",
   "execution_count": 187,
   "metadata": {},
   "outputs": [
    {
     "name": "stdout",
     "output_type": "stream",
     "text": [
      " * sqlite:////Users/kevinmathew/sql/survey.db\n",
      "Done.\n"
     ]
    },
    {
     "data": {
      "text/html": [
       "<table>\n",
       "    <tr>\n",
       "        <th>count(*)</th>\n",
       "    </tr>\n",
       "    <tr>\n",
       "        <td>8</td>\n",
       "    </tr>\n",
       "</table>"
      ],
      "text/plain": [
       "[(8,)]"
      ]
     },
     "execution_count": 187,
     "metadata": {},
     "output_type": "execute_result"
    }
   ],
   "source": [
    "%sql select count(*) from visited\n"
   ]
  },
  {
   "cell_type": "code",
   "execution_count": 215,
   "metadata": {},
   "outputs": [
    {
     "name": "stdout",
     "output_type": "stream",
     "text": [
      " * sqlite:////Users/kevinmathew/sql/survey.db\n",
      "Done.\n"
     ]
    },
    {
     "data": {
      "text/html": [
       "<table>\n",
       "    <tr>\n",
       "        <th>Sum_count</th>\n",
       "    </tr>\n",
       "    <tr>\n",
       "        <td>7</td>\n",
       "    </tr>\n",
       "</table>"
      ],
      "text/plain": [
       "[(7,)]"
      ]
     },
     "execution_count": 215,
     "metadata": {},
     "output_type": "execute_result"
    }
   ],
   "source": [
    "%sql SELECT (select count(*) FROM Visited WHERE dated < '1930-01-01')+\\\n",
    "(SELECT count(*) FROM Visited WHERE dated >= '1930-01-01')\\\n",
    "AS Sum_count"
   ]
  },
  {
   "cell_type": "code",
   "execution_count": 216,
   "metadata": {},
   "outputs": [
    {
     "data": {
      "text/plain": [
       "7"
      ]
     },
     "execution_count": 216,
     "metadata": {},
     "output_type": "execute_result"
    }
   ],
   "source": [
    "visited[visited['dated']< '1930-01-01'].shape[0] + visited[visited['dated']>= '1930-01-01'].shape[0]"
   ]
  },
  {
   "cell_type": "markdown",
   "metadata": {},
   "source": [
    "As we can see here, one record is missing in both set of results. This happend because, there is one record having date as null,so comparison operator on this wont return either true or false<br>"
   ]
  },
  {
   "cell_type": "code",
   "execution_count": 218,
   "metadata": {},
   "outputs": [
    {
     "name": "stdout",
     "output_type": "stream",
     "text": [
      " * sqlite:////Users/kevinmathew/sql/survey.db\n",
      "Done.\n"
     ]
    },
    {
     "data": {
      "text/html": [
       "<table>\n",
       "    <tr>\n",
       "        <th>id</th>\n",
       "        <th>site</th>\n",
       "        <th>dated</th>\n",
       "    </tr>\n",
       "    <tr>\n",
       "        <td>752</td>\n",
       "        <td>DR-3</td>\n",
       "        <td>None</td>\n",
       "    </tr>\n",
       "</table>"
      ],
      "text/plain": [
       "[(752, 'DR-3', None)]"
      ]
     },
     "execution_count": 218,
     "metadata": {},
     "output_type": "execute_result"
    }
   ],
   "source": [
    "## To find null values in sql, use 'IS NULL'\n",
    "\n",
    "%sql select * from visited where dated is null"
   ]
  },
  {
   "cell_type": "code",
   "execution_count": null,
   "metadata": {},
   "outputs": [],
   "source": []
  }
 ],
 "metadata": {
  "kernelspec": {
   "display_name": "Python 3",
   "language": "python",
   "name": "python3"
  },
  "language_info": {
   "codemirror_mode": {
    "name": "ipython",
    "version": 3
   },
   "file_extension": ".py",
   "mimetype": "text/x-python",
   "name": "python",
   "nbconvert_exporter": "python",
   "pygments_lexer": "ipython3",
   "version": "3.7.6"
  }
 },
 "nbformat": 4,
 "nbformat_minor": 4
}
